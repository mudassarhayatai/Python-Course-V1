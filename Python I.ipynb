{
 "cells": [
  {
   "cell_type": "markdown",
   "metadata": {
    "id": "tFv4I03T0ZpW"
   },
   "source": [
    "#                                                    Python I\n",
    "\n",
    "In this lecture, we will learn about:\n",
    "- numbers \n",
    "- Variables\n",
    "- strings\n",
    "- type casting\n",
    "- string formatting\n",
    "- errors\n",
    "- reading input in Python and how to use them.\n"
   ]
  },
  {
   "cell_type": "markdown",
   "metadata": {
    "id": "NuupmaLH0Zpg"
   },
   "source": [
    "Python is an interpreted high-level general-purpose programming language. Its design philosophy emphasizes code readability with its use of significant indentation. Its language constructs as well as its object-oriented approach aim to help programmers write clear, logical code for small and large-scale projects.\n",
    "\n",
    "Python is dynamically-typed and garbage-collected. It supports multiple progamming paradigms, including structured (particularly, procedural), object-oriented and functional programming. It is often described as a \"batteries included\" language due to its comprehensive standard library.\n",
    "\n",
    "Guido van Rossum began working on Python in the late 1980s, as a successor to the ABC programming language, and first released it in 1991 as Python 0.9.0. Python 2.0 was released in 2000 and introduced new features, such as list comprehensions and a garbage collection system using reference counting. Python 3.0 was released in 2008 and was a major revision of the language that is not completely backward-compatible. Python 2 was discontinued with version 2.7.18 in 2020.\n",
    "\n",
    "Python consistently ranks as one of the most popular programming languages."
   ]
  },
  {
   "cell_type": "markdown",
   "metadata": {
    "id": "jcGeg2wu0Zpj"
   },
   "source": [
    "### So lets start to learn this amazing langauge. "
   ]
  },
  {
   "cell_type": "markdown",
   "metadata": {
    "id": "haqEGRX60Zpj"
   },
   "source": [
    "## 1. Numbers "
   ]
  },
  {
   "cell_type": "code",
   "execution_count": null,
   "metadata": {
    "id": "E9oiFQP00Zpk",
    "outputId": "69cd3ebb-4633-475d-ab55-38e043eba49a"
   },
   "outputs": [
    {
     "data": {
      "text/plain": [
       "7"
      ]
     },
     "execution_count": 1,
     "metadata": {},
     "output_type": "execute_result"
    }
   ],
   "source": [
    "# Addition\n",
    "2+5"
   ]
  },
  {
   "cell_type": "code",
   "execution_count": null,
   "metadata": {
    "id": "-EAdsAgE0Zpn",
    "outputId": "d2a78013-8db8-4943-c921-5602639d4be4"
   },
   "outputs": [
    {
     "data": {
      "text/plain": [
       "3"
      ]
     },
     "execution_count": 2,
     "metadata": {},
     "output_type": "execute_result"
    }
   ],
   "source": [
    "# Subtraction\n",
    "5-2"
   ]
  },
  {
   "cell_type": "code",
   "execution_count": null,
   "metadata": {
    "id": "VUbmbbO50Zpo",
    "outputId": "3e111264-3e2f-4793-c2d5-7a58f3312902"
   },
   "outputs": [
    {
     "data": {
      "text/plain": [
       "10"
      ]
     },
     "execution_count": 3,
     "metadata": {},
     "output_type": "execute_result"
    }
   ],
   "source": [
    "# Multiplication\n",
    "5*2"
   ]
  },
  {
   "cell_type": "code",
   "execution_count": null,
   "metadata": {
    "id": "OUbG6pML0Zpq",
    "outputId": "19aa2a5d-25eb-4661-a777-0810cd94a636"
   },
   "outputs": [
    {
     "data": {
      "text/plain": [
       "2.5"
      ]
     },
     "execution_count": 4,
     "metadata": {},
     "output_type": "execute_result"
    }
   ],
   "source": [
    "# Division\n",
    "5/2"
   ]
  },
  {
   "cell_type": "code",
   "execution_count": null,
   "metadata": {
    "id": "V3ZD7qoG0Zpr",
    "outputId": "ab1db6a0-8c26-4cd7-dd0d-c2aa9f7dc913"
   },
   "outputs": [
    {
     "data": {
      "text/plain": [
       "2"
      ]
     },
     "execution_count": 6,
     "metadata": {},
     "output_type": "execute_result"
    }
   ],
   "source": [
    "# Floor Division (Divident)\n",
    "5//2"
   ]
  },
  {
   "cell_type": "code",
   "execution_count": null,
   "metadata": {
    "id": "CxBLCPyT0Zps",
    "outputId": "1025261a-7b80-4083-a5d4-77b7e6454201"
   },
   "outputs": [
    {
     "data": {
      "text/plain": [
       "1"
      ]
     },
     "execution_count": 7,
     "metadata": {},
     "output_type": "execute_result"
    }
   ],
   "source": [
    "# Remainder in case of Division\n",
    "5%2"
   ]
  },
  {
   "cell_type": "code",
   "execution_count": null,
   "metadata": {
    "id": "ciL-XTcG0Zps",
    "outputId": "606dac98-80d5-4697-ca80-d5120e0dabb1"
   },
   "outputs": [
    {
     "data": {
      "text/plain": [
       "25"
      ]
     },
     "execution_count": 8,
     "metadata": {},
     "output_type": "execute_result"
    }
   ],
   "source": [
    "# Power\n",
    "5**2"
   ]
  },
  {
   "cell_type": "code",
   "execution_count": null,
   "metadata": {
    "id": "y4N38Ur60Zpt",
    "outputId": "e9a3b044-477c-4314-b10a-ea53101c3304"
   },
   "outputs": [
    {
     "data": {
      "text/plain": [
       "4.0"
      ]
     },
     "execution_count": 9,
     "metadata": {},
     "output_type": "execute_result"
    }
   ],
   "source": [
    "#Square Root\n",
    "16**0.5"
   ]
  },
  {
   "cell_type": "code",
   "execution_count": null,
   "metadata": {
    "id": "Ei3XVUdU0Zpt",
    "outputId": "6a747a1d-6e01-4a45-dd7a-284b891fe99d"
   },
   "outputs": [
    {
     "data": {
      "text/plain": [
       "35"
      ]
     },
     "execution_count": 10,
     "metadata": {},
     "output_type": "execute_result"
    }
   ],
   "source": [
    "# Python follows DMAS \n",
    "5 + 5*5 + 5"
   ]
  },
  {
   "cell_type": "code",
   "execution_count": null,
   "metadata": {
    "id": "TjtnGrMX0Zpu",
    "outputId": "1ccdde62-3b68-491b-a264-a7ac425aa2e1"
   },
   "outputs": [
    {
     "data": {
      "text/plain": [
       "40"
      ]
     },
     "execution_count": 11,
     "metadata": {},
     "output_type": "execute_result"
    }
   ],
   "source": [
    "#Brackets can be applied to follow a specific order\n",
    "(5+5) * (2+2)"
   ]
  },
  {
   "cell_type": "markdown",
   "metadata": {
    "id": "BES7QHLH0Zpv"
   },
   "source": [
    "## 2. Variables in Python\n",
    "\n",
    "Lets find out how we can develop a variable in python and assign a value to it."
   ]
  },
  {
   "cell_type": "code",
   "execution_count": null,
   "metadata": {
    "id": "aAQOUyt10Zpw",
    "outputId": "5819c89b-187b-4438-fab3-03bd5c360520"
   },
   "outputs": [
    {
     "data": {
      "text/plain": [
       "5"
      ]
     },
     "execution_count": 12,
     "metadata": {},
     "output_type": "execute_result"
    }
   ],
   "source": [
    "x = 5\n",
    "x"
   ]
  },
  {
   "cell_type": "code",
   "execution_count": null,
   "metadata": {
    "id": "c6nTi8TO0Zpx",
    "outputId": "ec6ec04f-5495-41a8-ace0-9e5166acd204"
   },
   "outputs": [
    {
     "data": {
      "text/plain": [
       "10"
      ]
     },
     "execution_count": 13,
     "metadata": {},
     "output_type": "execute_result"
    }
   ],
   "source": [
    "# Reassigning\n",
    "x = x + x\n",
    "x"
   ]
  },
  {
   "cell_type": "code",
   "execution_count": null,
   "metadata": {
    "id": "M12agmHo0Zp7"
   },
   "outputs": [],
   "source": [
    "# Now make a simple program to calculate seconds in two minutes\n",
    "minutes = 2\n",
    "seconds = 60\n",
    "number_of_seconds = 60 * 2"
   ]
  },
  {
   "cell_type": "code",
   "execution_count": null,
   "metadata": {
    "id": "Ym27TGYx0Zp8",
    "outputId": "5950e2d8-cd12-41ba-cfa7-1fb59de685ca"
   },
   "outputs": [
    {
     "data": {
      "text/plain": [
       "120"
      ]
     },
     "execution_count": 15,
     "metadata": {},
     "output_type": "execute_result"
    }
   ],
   "source": [
    "number_of_seconds"
   ]
  },
  {
   "cell_type": "code",
   "execution_count": null,
   "metadata": {
    "id": "ZEvFrKK00Zp8"
   },
   "outputs": [],
   "source": [
    "# A string can also be assigned to a variable\n",
    "myhobby = 'I enjoy reading books'"
   ]
  },
  {
   "cell_type": "markdown",
   "metadata": {
    "id": "hFP53NTE0Zp9"
   },
   "source": [
    "## 3. Strings \n",
    "Strings are used in Python to record text information, such as names. Strings in Python are actually a sequence. Python keeps track of every element in the string as a sequence. For example, Python understands the string \"hello' to be a sequence of letters in a specific order. This means we will be able to use indexing to grab particular letters (like the first letter, or the last letter)"
   ]
  },
  {
   "cell_type": "code",
   "execution_count": null,
   "metadata": {
    "id": "a_j2Ryis0Zp9",
    "outputId": "35720b9d-6ae6-40cc-ecc4-9d8ae8d371b0",
    "scrolled": true
   },
   "outputs": [
    {
     "data": {
      "text/plain": [
       "'Hello World!'"
      ]
     },
     "execution_count": 16,
     "metadata": {},
     "output_type": "execute_result"
    }
   ],
   "source": [
    "# Single word\n",
    "\"Hello World!\""
   ]
  },
  {
   "cell_type": "code",
   "execution_count": null,
   "metadata": {
    "id": "g4GTpucf0Zp-",
    "outputId": "b1450294-8f88-4463-ea65-791d92b65718",
    "scrolled": false
   },
   "outputs": [
    {
     "name": "stdout",
     "output_type": "stream",
     "text": [
      "Hello World!\n"
     ]
    }
   ],
   "source": [
    "# Lets check the print function\n",
    "print (\"Hello World!\")"
   ]
  },
  {
   "cell_type": "code",
   "execution_count": null,
   "metadata": {
    "id": "TGfT4fEL0Zp-",
    "outputId": "4d7d9b9e-7d0c-48da-a1e3-663bd056ef2d"
   },
   "outputs": [
    {
     "ename": "SyntaxError",
     "evalue": "invalid syntax (<ipython-input-23-0f187e3a7890>, line 2)",
     "output_type": "error",
     "traceback": [
      "\u001b[1;36m  File \u001b[1;32m\"<ipython-input-23-0f187e3a7890>\"\u001b[1;36m, line \u001b[1;32m2\u001b[0m\n\u001b[1;33m    print ('Hello, I'm here')\u001b[0m\n\u001b[1;37m                     ^\u001b[0m\n\u001b[1;31mSyntaxError\u001b[0m\u001b[1;31m:\u001b[0m invalid syntax\n"
     ]
    }
   ],
   "source": [
    "# If you wnat to use single qoute inside a sentence, you must use double qoutes outside.\n",
    "print ('Hello, I'm here')"
   ]
  },
  {
   "cell_type": "code",
   "execution_count": null,
   "metadata": {
    "id": "-izQrMOC0ZqA",
    "outputId": "b669178a-9e97-4fc5-9d8c-7f6d402ea962"
   },
   "outputs": [
    {
     "name": "stdout",
     "output_type": "stream",
     "text": [
      "Hello, I'm Here\n"
     ]
    }
   ],
   "source": [
    "# See you got an error. You should write this as:\n",
    "print (\"Hello, I'm Here\")"
   ]
  },
  {
   "cell_type": "markdown",
   "metadata": {
    "id": "5J4oAkv60ZqA"
   },
   "source": [
    "##### Now lets use some escape characters \n"
   ]
  },
  {
   "cell_type": "code",
   "execution_count": null,
   "metadata": {
    "id": "sPh7inI70ZqA",
    "outputId": "5e012aaa-c8ba-409f-e970-6c69d1ade739"
   },
   "outputs": [
    {
     "ename": "SyntaxError",
     "evalue": "invalid syntax (<ipython-input-25-46363ac085ef>, line 2)",
     "output_type": "error",
     "traceback": [
      "\u001b[1;36m  File \u001b[1;32m\"<ipython-input-25-46363ac085ef>\"\u001b[1;36m, line \u001b[1;32m2\u001b[0m\n\u001b[1;33m    print (\"My favorite movie is \"Harry Potter\" and I have watched it multiple times\")\u001b[0m\n\u001b[1;37m                                  ^\u001b[0m\n\u001b[1;31mSyntaxError\u001b[0m\u001b[1;31m:\u001b[0m invalid syntax\n"
     ]
    }
   ],
   "source": [
    "# What if you want to use double qoutes inside a string?\n",
    "print (\"My favorite movie is \"Harry Potter\" and I have watched it multiple times\")"
   ]
  },
  {
   "cell_type": "code",
   "execution_count": null,
   "metadata": {
    "id": "lHebAaQ40ZqB",
    "outputId": "18ce0842-bedc-4b9f-e3fd-95df24515f40"
   },
   "outputs": [
    {
     "name": "stdout",
     "output_type": "stream",
     "text": [
      "My favorite movie is \"Harry Potter\" and I have watched it multiple times\n"
     ]
    }
   ],
   "source": [
    "# Now lets solve this issue, use escape character \\\"\n",
    "print (\"My favorite movie is \\\"Harry Potter\\\" and I have watched it multiple times\")"
   ]
  },
  {
   "cell_type": "code",
   "execution_count": null,
   "metadata": {
    "id": "PCkUQnjA0ZqB",
    "outputId": "ce180814-5cd7-414b-ab45-3a1911eff0be"
   },
   "outputs": [
    {
     "name": "stdout",
     "output_type": "stream",
     "text": [
      "My favorite movie is Harry Potter \n",
      "I have watched it multiple times\n"
     ]
    }
   ],
   "source": [
    "# Now if you want to use new line, Use escape character \\n\n",
    "print (\"My favorite movie is Harry Potter \\nI have watched it multiple times\")"
   ]
  },
  {
   "cell_type": "code",
   "execution_count": null,
   "metadata": {
    "id": "v-ULE_RG0ZqC"
   },
   "outputs": [],
   "source": [
    "# Search about other escape characters on google and apply them"
   ]
  },
  {
   "cell_type": "code",
   "execution_count": null,
   "metadata": {
    "id": "qsSAArff0ZqD",
    "outputId": "2bd8d74c-5444-4e88-cdac-aa9115b9e4e2"
   },
   "outputs": [
    {
     "data": {
      "text/plain": [
       "12"
      ]
     },
     "execution_count": 33,
     "metadata": {},
     "output_type": "execute_result"
    }
   ],
   "source": [
    "# length of a string \n",
    "len ('Hello World!')"
   ]
  },
  {
   "cell_type": "code",
   "execution_count": null,
   "metadata": {
    "id": "ODggWqf70ZqE",
    "outputId": "10e4a523-ee78-4416-81d8-0a78cd38b60e"
   },
   "outputs": [
    {
     "data": {
      "text/plain": [
       "'d'"
      ]
     },
     "execution_count": 34,
     "metadata": {},
     "output_type": "execute_result"
    }
   ],
   "source": [
    "# Python assign index to each letter in a string starting from 0 always. Lets access letter present at index 10\n",
    "x = 'Hello World!'\n",
    "x[10]"
   ]
  },
  {
   "cell_type": "code",
   "execution_count": null,
   "metadata": {
    "id": "3_enqcLW0ZqE",
    "outputId": "d65b2a9a-c5ed-4b7c-fe1f-75f2acb10d8d"
   },
   "outputs": [
    {
     "data": {
      "text/plain": [
       "'o World!'"
      ]
     },
     "execution_count": 35,
     "metadata": {},
     "output_type": "execute_result"
    }
   ],
   "source": [
    "# Access letters above index 4 by using : \n",
    "x[4:]"
   ]
  },
  {
   "cell_type": "code",
   "execution_count": null,
   "metadata": {
    "id": "nJ8FZd-r0ZqF",
    "outputId": "e1374879-4103-4327-e38a-647c65aed2da"
   },
   "outputs": [
    {
     "data": {
      "text/plain": [
       "'Hell'"
      ]
     },
     "execution_count": 36,
     "metadata": {},
     "output_type": "execute_result"
    }
   ],
   "source": [
    "x[:4]"
   ]
  },
  {
   "cell_type": "code",
   "execution_count": null,
   "metadata": {
    "id": "tOJjn6qr0ZqF",
    "outputId": "5a60f1a8-e8d1-4671-f8b5-375fbc76046d"
   },
   "outputs": [
    {
     "data": {
      "text/plain": [
       "'lo Wor'"
      ]
     },
     "execution_count": 38,
     "metadata": {},
     "output_type": "execute_result"
    }
   ],
   "source": [
    "x[3:9]"
   ]
  },
  {
   "cell_type": "code",
   "execution_count": null,
   "metadata": {
    "id": "67VGNr2R0ZqG",
    "outputId": "1158dcef-c3b3-4ece-d44e-f2bba6338523"
   },
   "outputs": [
    {
     "data": {
      "text/plain": [
       "'Hello World!'"
      ]
     },
     "execution_count": 39,
     "metadata": {},
     "output_type": "execute_result"
    }
   ],
   "source": [
    "x[:]"
   ]
  },
  {
   "cell_type": "code",
   "execution_count": null,
   "metadata": {
    "id": "A4fpxFSg0ZqG",
    "outputId": "427bf586-5c35-4bcf-de4f-71812ddc1795"
   },
   "outputs": [
    {
     "data": {
      "text/plain": [
       "'d'"
      ]
     },
     "execution_count": 41,
     "metadata": {},
     "output_type": "execute_result"
    }
   ],
   "source": [
    "x[-2]"
   ]
  },
  {
   "cell_type": "code",
   "execution_count": null,
   "metadata": {
    "id": "fK6-Q1J00ZqG",
    "outputId": "cfbff15b-ac8e-4f8b-8e31-a22dfaf4505e"
   },
   "outputs": [
    {
     "data": {
      "text/plain": [
       "'HloWrd'"
      ]
     },
     "execution_count": 46,
     "metadata": {},
     "output_type": "execute_result"
    }
   ],
   "source": [
    "# Get letters with step size of two\n",
    "x[0::2]"
   ]
  },
  {
   "cell_type": "code",
   "execution_count": null,
   "metadata": {
    "id": "_YX-QsZO0ZqG",
    "outputId": "3763d746-5de4-4c7b-c216-db0548b3c879"
   },
   "outputs": [
    {
     "data": {
      "text/plain": [
       "'!lo le'"
      ]
     },
     "execution_count": 49,
     "metadata": {},
     "output_type": "execute_result"
    }
   ],
   "source": [
    "x[::-2]"
   ]
  },
  {
   "cell_type": "code",
   "execution_count": null,
   "metadata": {
    "id": "dwNB_yy40ZqH",
    "outputId": "0c6c1dde-f212-4cfb-ea00-f45c852ae57f"
   },
   "outputs": [
    {
     "data": {
      "text/plain": [
       "'Hello World'"
      ]
     },
     "execution_count": 51,
     "metadata": {},
     "output_type": "execute_result"
    }
   ],
   "source": [
    "# Now concatenate two strings together\n",
    "x = 'Hello '\n",
    "y = 'World'\n",
    "z = x + y\n",
    "z"
   ]
  },
  {
   "cell_type": "code",
   "execution_count": null,
   "metadata": {
    "id": "hRq_RLhi0ZqH",
    "outputId": "96e2a976-c781-4f2c-a850-25dfa76d1475"
   },
   "outputs": [
    {
     "data": {
      "text/plain": [
       "'zzzzzzzzzz'"
      ]
     },
     "execution_count": 54,
     "metadata": {},
     "output_type": "execute_result"
    }
   ],
   "source": [
    "# you can also apply multiplication\n",
    "'x'*10"
   ]
  },
  {
   "cell_type": "code",
   "execution_count": null,
   "metadata": {
    "id": "7cpu68Dn0ZqH",
    "outputId": "99f8137f-ce43-4b3d-abd3-53a655004693"
   },
   "outputs": [
    {
     "data": {
      "text/plain": [
       "'HELLO '"
      ]
     },
     "execution_count": 57,
     "metadata": {},
     "output_type": "execute_result"
    }
   ],
   "source": [
    "# there are some inbuild properties that can be applied to a string. e.g,\n",
    "x.upper()"
   ]
  },
  {
   "cell_type": "markdown",
   "metadata": {
    "id": "P049wG3x0ZqI"
   },
   "source": [
    "Search about some other properties on google and apply them. Or press Tab key after x. and you will get a list of all properties\\methods applied to a string"
   ]
  },
  {
   "cell_type": "markdown",
   "metadata": {
    "id": "EN_wbFQy0ZqI"
   },
   "source": [
    "##### Advance String Formatting\n",
    "you can use %s, %r, %d for advance string formatting"
   ]
  },
  {
   "cell_type": "code",
   "execution_count": null,
   "metadata": {
    "id": "T2kC_HE90ZqI",
    "outputId": "82e7ec35-9121-4b0a-d255-1d8f75c50e5b"
   },
   "outputs": [
    {
     "name": "stdout",
     "output_type": "stream",
     "text": [
      "I want to insert 11111 here\n"
     ]
    }
   ],
   "source": [
    "# %s\n",
    "print ('I want to insert %s here' %'11111')"
   ]
  },
  {
   "cell_type": "code",
   "execution_count": null,
   "metadata": {
    "id": "leejltSt0ZqI",
    "outputId": "6356bcf9-6822-4e96-fac9-1c027d06d61b"
   },
   "outputs": [
    {
     "name": "stdout",
     "output_type": "stream",
     "text": [
      "I want to insert this and that here\n"
     ]
    }
   ],
   "source": [
    "# you can pass more than one thing\n",
    "print ('I want to insert %s here' %('this ''and ''that'))"
   ]
  },
  {
   "cell_type": "code",
   "execution_count": null,
   "metadata": {
    "id": "eEE8o5TE0ZqJ",
    "outputId": "d3745fa2-66d7-4aba-dc81-c6942936c194"
   },
   "outputs": [
    {
     "name": "stdout",
     "output_type": "stream",
     "text": [
      "I want to insert 'this and that' here\n"
     ]
    }
   ],
   "source": [
    "# %r\n",
    "print ('I want to insert %r here' %('this ''and ''that'))"
   ]
  },
  {
   "cell_type": "code",
   "execution_count": null,
   "metadata": {
    "id": "1S4Ehdp60ZqJ",
    "outputId": "4345a1d2-8880-4817-a2fd-f74bce95de11"
   },
   "outputs": [
    {
     "name": "stdout",
     "output_type": "stream",
     "text": [
      "I want to insert 2 here\n"
     ]
    }
   ],
   "source": [
    "# %d\n",
    "print ('I want to insert %d here' %2.5)"
   ]
  },
  {
   "cell_type": "markdown",
   "metadata": {
    "id": "Q0Q4ixRl0ZqJ"
   },
   "source": [
    "##### Padding and Precision of Floating Point Numbers"
   ]
  },
  {
   "cell_type": "code",
   "execution_count": null,
   "metadata": {
    "id": "euLnUD1L0ZqJ",
    "outputId": "4fa5d084-7df7-445f-bd7b-0fc871a74ef4"
   },
   "outputs": [
    {
     "name": "stdout",
     "output_type": "stream",
     "text": [
      "Floating point numbers: 21.2\n"
     ]
    }
   ],
   "source": [
    "# Use %f for formatting of floating point numbers.  \n",
    "print('Floating point numbers: %4.1f' %(21.2222))"
   ]
  },
  {
   "cell_type": "markdown",
   "metadata": {
    "id": "1Cz7kyFz0ZqK"
   },
   "source": [
    "Above in %4.1, 4 represents the minimum number of integers it must contain while 1 represents the number of characters after decimal point."
   ]
  },
  {
   "cell_type": "code",
   "execution_count": null,
   "metadata": {
    "id": "fbOfLtsf0ZqK",
    "outputId": "33b7bd71-0881-42a2-9abf-936bdb646b5c"
   },
   "outputs": [
    {
     "name": "stdout",
     "output_type": "stream",
     "text": [
      "Floating point numbers: 32.987000\n"
     ]
    }
   ],
   "source": [
    "print('Floating point numbers: %2.6f' %(32.987))"
   ]
  },
  {
   "cell_type": "markdown",
   "metadata": {
    "id": "j5o-Zi2Y0ZqK"
   },
   "source": [
    "##### A better way to format objects into your strings for print statements is with the string .format() method described below."
   ]
  },
  {
   "cell_type": "code",
   "execution_count": null,
   "metadata": {
    "id": "vgFwPu-j0ZqK",
    "outputId": "eb2b43e8-f241-454a-b230-e2d8f1dab598"
   },
   "outputs": [
    {
     "name": "stdout",
     "output_type": "stream",
     "text": [
      "The sharp black dog\n"
     ]
    }
   ],
   "source": [
    "print('The {2} {1} {0}'.format('dog','black','sharp'))\n"
   ]
  },
  {
   "cell_type": "code",
   "execution_count": null,
   "metadata": {
    "id": "rpuqVcyP0ZqL",
    "outputId": "7c4e6750-a6b7-4c7f-989c-625a0eace755"
   },
   "outputs": [
    {
     "name": "stdout",
     "output_type": "stream",
     "text": [
      "Weather  | Cloudy   \n"
     ]
    }
   ],
   "source": [
    "# Alignment, padding and precision with .format()\n",
    "print('{0:8} | {1:9}'.format('Weather', 'Cloudy'))"
   ]
  },
  {
   "cell_type": "code",
   "execution_count": null,
   "metadata": {
    "id": "vfL7ZIFh0ZqL",
    "outputId": "1ae8a3eb-fdd0-4278-d6ac-9813d20261e1"
   },
   "outputs": [
    {
     "name": "stdout",
     "output_type": "stream",
     "text": [
      "Left     |  Center  |    Right\n",
      "11       |    22    |       33\n"
     ]
    }
   ],
   "source": [
    "print('{0:<8} | {1:^8} | {2:>8}'.format('Left','Center','Right'))\n",
    "print('{0:<8} | {1:^8} | {2:>8}'.format(11,22,33)) "
   ]
  },
  {
   "cell_type": "markdown",
   "metadata": {
    "id": "TtxWLaPl0ZqL"
   },
   "source": [
    "By default, .format() aligns text to the left, numbers to the right. You can pass an optional <,^, or > to set a left, center or right alignment."
   ]
  },
  {
   "cell_type": "markdown",
   "metadata": {
    "id": "O0K7QjDY0ZqM"
   },
   "source": [
    "##### Formatted String Literals (f-strings)\n"
   ]
  },
  {
   "cell_type": "code",
   "execution_count": null,
   "metadata": {
    "id": "uyq4XNyY0ZqN",
    "outputId": "e6369f9f-f5c8-42ca-c62a-4fca544ea870"
   },
   "outputs": [
    {
     "name": "stdout",
     "output_type": "stream",
     "text": [
      "He told his name as Ali.\n"
     ]
    }
   ],
   "source": [
    "name = 'Ali'\n",
    "print(f\"He told his name as {name}.\")"
   ]
  },
  {
   "cell_type": "code",
   "execution_count": null,
   "metadata": {
    "id": "ckD1IaFB0ZqN",
    "outputId": "077ba0d6-f630-4ab2-8efe-9e66e91d1139"
   },
   "outputs": [
    {
     "name": "stdout",
     "output_type": "stream",
     "text": [
      "He told his name as 'Ali'.\n"
     ]
    }
   ],
   "source": [
    "print(f\"He told his name as {name !r}.\")"
   ]
  },
  {
   "cell_type": "code",
   "execution_count": null,
   "metadata": {
    "id": "4umaZwz-0ZqN",
    "outputId": "1e2e90c3-5ace-4849-8ada-108f88a7e41b"
   },
   "outputs": [
    {
     "name": "stdout",
     "output_type": "stream",
     "text": [
      "My 10 character, four decimal number is:   23.4568\n"
     ]
    }
   ],
   "source": [
    "num = 23.45678\n",
    "print(\"My 10 character, four decimal number is:{0:10.4f}\".format(num))"
   ]
  },
  {
   "cell_type": "markdown",
   "metadata": {
    "id": "D4iRZeE60ZqO"
   },
   "source": [
    "## 4. Errors in Python"
   ]
  },
  {
   "cell_type": "markdown",
   "metadata": {
    "id": "N9NiKNzu0ZqO"
   },
   "source": [
    "Many times though, a program results in an error after it is run even if it doesn't have any syntax error. Such an error is a runtime error, called an exception. A number of built-in exceptions are defined in the Python library. Let's see some common error types."
   ]
  },
  {
   "cell_type": "code",
   "execution_count": null,
   "metadata": {
    "id": "chgG7GAV0ZqO",
    "outputId": "4701c5b2-d83d-4351-9aa5-979c34befc40"
   },
   "outputs": [
    {
     "ename": "IndexError",
     "evalue": "string index out of range",
     "output_type": "error",
     "traceback": [
      "\u001b[1;31m---------------------------------------------------------------------------\u001b[0m",
      "\u001b[1;31mIndexError\u001b[0m                                Traceback (most recent call last)",
      "\u001b[1;32m<ipython-input-105-fbb46175f315>\u001b[0m in \u001b[0;36m<module>\u001b[1;34m\u001b[0m\n\u001b[0;32m      1\u001b[0m \u001b[1;31m# IndexError\u001b[0m\u001b[1;33m\u001b[0m\u001b[1;33m\u001b[0m\u001b[1;33m\u001b[0m\u001b[0m\n\u001b[0;32m      2\u001b[0m \u001b[0ma\u001b[0m \u001b[1;33m=\u001b[0m \u001b[1;34m'Hellow'\u001b[0m\u001b[1;33m\u001b[0m\u001b[1;33m\u001b[0m\u001b[0m\n\u001b[1;32m----> 3\u001b[1;33m \u001b[0ma\u001b[0m\u001b[1;33m[\u001b[0m\u001b[1;36m11\u001b[0m\u001b[1;33m]\u001b[0m\u001b[1;33m\u001b[0m\u001b[1;33m\u001b[0m\u001b[0m\n\u001b[0m",
      "\u001b[1;31mIndexError\u001b[0m: string index out of range"
     ]
    }
   ],
   "source": [
    "# IndexError (unable to find appropriate index)\n",
    "a = 'Hellow'\n",
    "a[11]"
   ]
  },
  {
   "cell_type": "code",
   "execution_count": null,
   "metadata": {
    "id": "CTerTDdf0ZqQ",
    "outputId": "1c5d98c5-0a8c-4285-a1b3-d4b8454786b7"
   },
   "outputs": [
    {
     "ename": "ModuleNotFoundError",
     "evalue": "No module named 'randommodule'",
     "output_type": "error",
     "traceback": [
      "\u001b[1;31m---------------------------------------------------------------------------\u001b[0m",
      "\u001b[1;31mModuleNotFoundError\u001b[0m                       Traceback (most recent call last)",
      "\u001b[1;32m<ipython-input-106-beb7807f5d3c>\u001b[0m in \u001b[0;36m<module>\u001b[1;34m\u001b[0m\n\u001b[0;32m      1\u001b[0m \u001b[1;31m# ModuleNotFoundError\u001b[0m\u001b[1;33m\u001b[0m\u001b[1;33m\u001b[0m\u001b[1;33m\u001b[0m\u001b[0m\n\u001b[1;32m----> 2\u001b[1;33m \u001b[1;32mimport\u001b[0m \u001b[0mrandommodule\u001b[0m\u001b[1;33m\u001b[0m\u001b[1;33m\u001b[0m\u001b[0m\n\u001b[0m",
      "\u001b[1;31mModuleNotFoundError\u001b[0m: No module named 'randommodule'"
     ]
    }
   ],
   "source": [
    "# ModuleNotFoundError (try to import any module not built-in) \n",
    "import randommodule"
   ]
  },
  {
   "cell_type": "code",
   "execution_count": null,
   "metadata": {
    "id": "7Px2ZlAi0ZqQ",
    "outputId": "f4549987-91c5-4ed5-911e-5321a054ab4c"
   },
   "outputs": [
    {
     "ename": "TypeError",
     "evalue": "can only concatenate str (not \"int\") to str",
     "output_type": "error",
     "traceback": [
      "\u001b[1;31m---------------------------------------------------------------------------\u001b[0m",
      "\u001b[1;31mTypeError\u001b[0m                                 Traceback (most recent call last)",
      "\u001b[1;32m<ipython-input-108-d5ebd0c13e6e>\u001b[0m in \u001b[0;36m<module>\u001b[1;34m\u001b[0m\n\u001b[0;32m      1\u001b[0m \u001b[1;31m# Type Error\u001b[0m\u001b[1;33m\u001b[0m\u001b[1;33m\u001b[0m\u001b[1;33m\u001b[0m\u001b[0m\n\u001b[1;32m----> 2\u001b[1;33m \u001b[0ma\u001b[0m \u001b[1;33m=\u001b[0m \u001b[1;34m'1'\u001b[0m \u001b[1;33m+\u001b[0m \u001b[1;36m1\u001b[0m\u001b[1;33m\u001b[0m\u001b[1;33m\u001b[0m\u001b[0m\n\u001b[0m",
      "\u001b[1;31mTypeError\u001b[0m: can only concatenate str (not \"int\") to str"
     ]
    }
   ],
   "source": [
    "# Type Error\n",
    "a = '1' + 1"
   ]
  },
  {
   "cell_type": "markdown",
   "metadata": {
    "id": "hNxTiHYD0ZqR"
   },
   "source": [
    "Search google for more errors you may get while wrtiting a program in python. Good Luck!"
   ]
  }
 ],
 "metadata": {
  "colab": {
   "name": "Python I.ipynb",
   "provenance": []
  },
  "kernelspec": {
   "display_name": "Python 3",
   "language": "python",
   "name": "python3"
  },
  "language_info": {
   "codemirror_mode": {
    "name": "ipython",
    "version": 3
   },
   "file_extension": ".py",
   "mimetype": "text/x-python",
   "name": "python",
   "nbconvert_exporter": "python",
   "pygments_lexer": "ipython3",
   "version": "3.7.6"
  }
 },
 "nbformat": 4,
 "nbformat_minor": 5
}
